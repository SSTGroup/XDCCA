{
 "cells": [
  {
   "cell_type": "code",
   "execution_count": null,
   "id": "84e40948",
   "metadata": {},
   "outputs": [],
   "source": [
    "%load_ext autoreload\n",
    "%autoreload 2"
   ]
  },
  {
   "cell_type": "code",
   "execution_count": null,
   "id": "7598ce10",
   "metadata": {},
   "outputs": [],
   "source": [
    "import os\n",
    "import tensorflow as tf\n",
    "os.environ[\"CUDA_VISIBLE_DEVICES\"] = \"-1\"\n",
    "import numpy as np\n",
    "from datetime import datetime\n",
    "\n",
    "from XDCCA.data.mnist import MNISTData\n",
    "from XDCCA.experiments.mnist import MNISTConvDeepCCAExperiment"
   ]
  },
  {
   "cell_type": "code",
   "execution_count": null,
   "id": "7108a2cf",
   "metadata": {},
   "outputs": [],
   "source": [
    "# Load synthetic data\n",
    "mnist_dataprovider = MNISTData.generate(25000, num_boxes=0, max_width=10, flatten=False)\n",
    "\n",
    "# Create root dir for all following experiments\n",
    "root_dir = ''+datetime.now().strftime(\"%d_%m_%Y_%H_%M_%S\")\n",
    "os.mkdir(root_dir)\n",
    "\n",
    "# Save dataset\n",
    "mnist_dataprovider.save(root_dir)"
   ]
  },
  {
   "cell_type": "markdown",
   "id": "68316551",
   "metadata": {},
   "source": [
    "---"
   ]
  },
  {
   "cell_type": "markdown",
   "id": "2949963d",
   "metadata": {},
   "source": [
    "# DCCAE"
   ]
  },
  {
   "cell_type": "code",
   "execution_count": null,
   "id": "21df24ca",
   "metadata": {},
   "outputs": [],
   "source": [
    "for n_filters in [15]:\n",
    "    for l2 in [1e-3, 1e-2, 1e-1]:\n",
    "        for _ in range(3):\n",
    "            exp = MNISTConvDeepCCAExperiment(\n",
    "                log_dir=os.path.join(root_dir, 'dcca'), \n",
    "                encoder_config_v1=[\n",
    "                    dict(l_type='conv', n_filters=5, k_size=7, activation=None),\n",
    "                    dict(l_type='maxpool', pool_size=4),\n",
    "                    dict(l_type='conv', n_filters=10, k_size=5, activation=None),\n",
    "                    dict(l_type='maxpool', pool_size=7),\n",
    "                    dict(l_type='conv', n_filters=n_filters, k_size=3, activation=None),\n",
    "                ],\n",
    "                encoder_config_v2=[\n",
    "                    dict(l_type='conv', n_filters=5, k_size=7, activation=None),\n",
    "                    dict(l_type='maxpool', pool_size=4),\n",
    "                    dict(l_type='conv', n_filters=10, k_size=5, activation=None),\n",
    "                    dict(l_type='maxpool', pool_size=7),\n",
    "                    dict(l_type='conv', n_filters=n_filters, k_size=3, activation=None),\n",
    "                ],\n",
    "                dataprovider=mnist_dataprovider,\n",
    "                shared_dim=15,\n",
    "                lambda_l2=l2,\n",
    "                cca_reg=1e-4,\n",
    "                eval_epochs=10,\n",
    "                val_default_value=0.0,\n",
    "            )\n",
    "\n",
    "            exp.train_multiple_epochs(300)\n",
    "\n",
    "            exp.save()"
   ]
  },
  {
   "cell_type": "code",
   "execution_count": null,
   "id": "8a45bc84",
   "metadata": {},
   "outputs": [],
   "source": []
  }
 ],
 "metadata": {
  "kernelspec": {
   "display_name": "Python 3 (ipykernel)",
   "language": "python",
   "name": "python3"
  },
  "language_info": {
   "codemirror_mode": {
    "name": "ipython",
    "version": 3
   },
   "file_extension": ".py",
   "mimetype": "text/x-python",
   "name": "python",
   "nbconvert_exporter": "python",
   "pygments_lexer": "ipython3",
   "version": "3.11.6"
  }
 },
 "nbformat": 4,
 "nbformat_minor": 5
}
